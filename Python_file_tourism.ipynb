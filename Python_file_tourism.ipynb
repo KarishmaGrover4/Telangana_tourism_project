{
 "cells": [
  {
   "cell_type": "code",
   "execution_count": 99,
   "id": "20ce14b7",
   "metadata": {},
   "outputs": [],
   "source": [
    "# Import Required libraries\n",
    "import pandas as pd\n",
    "import numpy as np\n",
    "import seaborn as sns\n",
    "import matplotlib.pyplot as plt\n",
    "%matplotlib inline\n"
   ]
  },
  {
   "cell_type": "code",
   "execution_count": 46,
   "id": "3d60319d",
   "metadata": {},
   "outputs": [],
   "source": [
    "#Load the dataset for Domestic_visitors\n",
    "\n",
    "Domastic16=pd.read_csv(\"https://raw.githubusercontent.com/mohittomar2008/Telangana-Government-Tourism-Department-Insights/main/Data/domestic_visitors/domestic_visitors_2016.csv\")\n",
    "Domastic17=pd.read_csv(\"https://raw.githubusercontent.com/mohittomar2008/Telangana-Government-Tourism-Department-Insights/main/Data/domestic_visitors/domestic_visitors_2017.csv\")\n",
    "Domastic18=pd.read_csv(\"https://raw.githubusercontent.com/mohittomar2008/Telangana-Government-Tourism-Department-Insights/main/Data/domestic_visitors/domestic_visitors_2018.csv\")\n",
    "Domastic19=pd.read_csv(\"https://raw.githubusercontent.com/mohittomar2008/Telangana-Government-Tourism-Department-Insights/main/Data/domestic_visitors/domestic_visitors_2019.csv\")\n",
    "\n"
   ]
  },
  {
   "cell_type": "code",
   "execution_count": 47,
   "id": "6e136937",
   "metadata": {},
   "outputs": [
    {
     "data": {
      "text/plain": [
       "((372, 5), (372, 5), (372, 5), (396, 5))"
      ]
     },
     "execution_count": 47,
     "metadata": {},
     "output_type": "execute_result"
    }
   ],
   "source": [
    "Domastic16.shape , Domastic17.shape  , Domastic18.shape  , Domastic19.shape"
   ]
  },
  {
   "cell_type": "code",
   "execution_count": 48,
   "id": "1d52ce1d",
   "metadata": {},
   "outputs": [],
   "source": [
    "#Load the dataset for foreign_visitors\n",
    "\n",
    "foreign16=pd.read_csv(\"https://raw.githubusercontent.com/mohittomar2008/Telangana-Government-Tourism-Department-Insights/main/Data/foreign_visitors/foreign_visitors_2016.csv\")\n",
    "foreign17=pd.read_csv(\"https://raw.githubusercontent.com/mohittomar2008/Telangana-Government-Tourism-Department-Insights/main/Data/foreign_visitors/foreign_visitors_2017.csv\")\n",
    "foreign18=pd.read_csv(\"https://raw.githubusercontent.com/mohittomar2008/Telangana-Government-Tourism-Department-Insights/main/Data/foreign_visitors/foreign_visitors_2018.csv\")\n",
    "foreign19=pd.read_csv(\"https://raw.githubusercontent.com/mohittomar2008/Telangana-Government-Tourism-Department-Insights/main/Data/foreign_visitors/foreign_visitors_2019.csv\")\n",
    "\n"
   ]
  },
  {
   "cell_type": "code",
   "execution_count": 49,
   "id": "6184d715",
   "metadata": {},
   "outputs": [
    {
     "data": {
      "text/plain": [
       "((372, 5), (372, 5), (372, 5), (396, 5))"
      ]
     },
     "execution_count": 49,
     "metadata": {},
     "output_type": "execute_result"
    }
   ],
   "source": [
    "foreign16.shape , foreign17.shape,  foreign18.shape , foreign19.shape"
   ]
  },
  {
   "cell_type": "code",
   "execution_count": 50,
   "id": "bf03d0bb",
   "metadata": {},
   "outputs": [
    {
     "data": {
      "text/html": [
       "<div>\n",
       "<style scoped>\n",
       "    .dataframe tbody tr th:only-of-type {\n",
       "        vertical-align: middle;\n",
       "    }\n",
       "\n",
       "    .dataframe tbody tr th {\n",
       "        vertical-align: top;\n",
       "    }\n",
       "\n",
       "    .dataframe thead th {\n",
       "        text-align: right;\n",
       "    }\n",
       "</style>\n",
       "<table border=\"1\" class=\"dataframe\">\n",
       "  <thead>\n",
       "    <tr style=\"text-align: right;\">\n",
       "      <th></th>\n",
       "      <th>district</th>\n",
       "      <th>date</th>\n",
       "      <th>month</th>\n",
       "      <th>year</th>\n",
       "      <th>visitors</th>\n",
       "    </tr>\n",
       "  </thead>\n",
       "  <tbody>\n",
       "    <tr>\n",
       "      <th>0</th>\n",
       "      <td>Adilabad</td>\n",
       "      <td>01-01-2016</td>\n",
       "      <td>January</td>\n",
       "      <td>2016</td>\n",
       "      <td>792136</td>\n",
       "    </tr>\n",
       "    <tr>\n",
       "      <th>1</th>\n",
       "      <td>Adilabad</td>\n",
       "      <td>01-02-2016</td>\n",
       "      <td>February</td>\n",
       "      <td>2016</td>\n",
       "      <td>937820</td>\n",
       "    </tr>\n",
       "  </tbody>\n",
       "</table>\n",
       "</div>"
      ],
      "text/plain": [
       "   district        date     month  year visitors\n",
       "0  Adilabad  01-01-2016   January  2016   792136\n",
       "1  Adilabad  01-02-2016  February  2016   937820"
      ]
     },
     "execution_count": 50,
     "metadata": {},
     "output_type": "execute_result"
    }
   ],
   "source": [
    "Domastic16.head(2)"
   ]
  },
  {
   "cell_type": "code",
   "execution_count": 51,
   "id": "dd455a52",
   "metadata": {},
   "outputs": [
    {
     "data": {
      "text/html": [
       "<div>\n",
       "<style scoped>\n",
       "    .dataframe tbody tr th:only-of-type {\n",
       "        vertical-align: middle;\n",
       "    }\n",
       "\n",
       "    .dataframe tbody tr th {\n",
       "        vertical-align: top;\n",
       "    }\n",
       "\n",
       "    .dataframe thead th {\n",
       "        text-align: right;\n",
       "    }\n",
       "</style>\n",
       "<table border=\"1\" class=\"dataframe\">\n",
       "  <thead>\n",
       "    <tr style=\"text-align: right;\">\n",
       "      <th></th>\n",
       "      <th>district</th>\n",
       "      <th>date</th>\n",
       "      <th>month</th>\n",
       "      <th>year</th>\n",
       "      <th>visitors</th>\n",
       "    </tr>\n",
       "  </thead>\n",
       "  <tbody>\n",
       "    <tr>\n",
       "      <th>0</th>\n",
       "      <td>Adilabad</td>\n",
       "      <td>01-01-2016</td>\n",
       "      <td>January</td>\n",
       "      <td>2016</td>\n",
       "      <td>2</td>\n",
       "    </tr>\n",
       "    <tr>\n",
       "      <th>1</th>\n",
       "      <td>Adilabad</td>\n",
       "      <td>01-02-2016</td>\n",
       "      <td>February</td>\n",
       "      <td>2016</td>\n",
       "      <td>0</td>\n",
       "    </tr>\n",
       "  </tbody>\n",
       "</table>\n",
       "</div>"
      ],
      "text/plain": [
       "   district        date     month  year visitors\n",
       "0  Adilabad  01-01-2016   January  2016        2\n",
       "1  Adilabad  01-02-2016  February  2016        0"
      ]
     },
     "execution_count": 51,
     "metadata": {},
     "output_type": "execute_result"
    }
   ],
   "source": [
    "foreign16.head(2)"
   ]
  },
  {
   "cell_type": "code",
   "execution_count": 52,
   "id": "b6f92c89",
   "metadata": {},
   "outputs": [
    {
     "data": {
      "text/plain": [
       "(1512, 5)"
      ]
     },
     "execution_count": 52,
     "metadata": {},
     "output_type": "execute_result"
    }
   ],
   "source": [
    "# Adding data from different years\n",
    "\n",
    "domastic= pd.concat([Domastic16,Domastic17,Domastic18,Domastic19], ignore_index=True)\n",
    "domastic.shape"
   ]
  },
  {
   "cell_type": "code",
   "execution_count": 53,
   "id": "2189cf8b",
   "metadata": {},
   "outputs": [
    {
     "data": {
      "text/plain": [
       "(1512, 5)"
      ]
     },
     "execution_count": 53,
     "metadata": {},
     "output_type": "execute_result"
    }
   ],
   "source": [
    "foreign= pd.concat([foreign16,foreign17,foreign18,foreign19], ignore_index=True)\n",
    "foreign.shape"
   ]
  },
  {
   "cell_type": "code",
   "execution_count": 54,
   "id": "7d61bb02",
   "metadata": {},
   "outputs": [],
   "source": [
    "# Both table domastic and foreign have equal rows\n",
    "# Lets check some data"
   ]
  },
  {
   "cell_type": "code",
   "execution_count": 55,
   "id": "9ff2a42d",
   "metadata": {},
   "outputs": [
    {
     "data": {
      "text/html": [
       "<div>\n",
       "<style scoped>\n",
       "    .dataframe tbody tr th:only-of-type {\n",
       "        vertical-align: middle;\n",
       "    }\n",
       "\n",
       "    .dataframe tbody tr th {\n",
       "        vertical-align: top;\n",
       "    }\n",
       "\n",
       "    .dataframe thead th {\n",
       "        text-align: right;\n",
       "    }\n",
       "</style>\n",
       "<table border=\"1\" class=\"dataframe\">\n",
       "  <thead>\n",
       "    <tr style=\"text-align: right;\">\n",
       "      <th></th>\n",
       "      <th>district</th>\n",
       "      <th>date</th>\n",
       "      <th>month</th>\n",
       "      <th>year</th>\n",
       "      <th>visitors</th>\n",
       "    </tr>\n",
       "  </thead>\n",
       "  <tbody>\n",
       "    <tr>\n",
       "      <th>8</th>\n",
       "      <td>Adilabad</td>\n",
       "      <td>01-09-2016</td>\n",
       "      <td>September</td>\n",
       "      <td>2016</td>\n",
       "      <td>491279</td>\n",
       "    </tr>\n",
       "    <tr>\n",
       "      <th>554</th>\n",
       "      <td>Medchal</td>\n",
       "      <td>01-03-2017</td>\n",
       "      <td>March</td>\n",
       "      <td>2017</td>\n",
       "      <td></td>\n",
       "    </tr>\n",
       "    <tr>\n",
       "      <th>1373</th>\n",
       "      <td>Nizamabad</td>\n",
       "      <td>01-06-2019</td>\n",
       "      <td>June</td>\n",
       "      <td>2019</td>\n",
       "      <td>686</td>\n",
       "    </tr>\n",
       "  </tbody>\n",
       "</table>\n",
       "</div>"
      ],
      "text/plain": [
       "       district        date      month  year visitors\n",
       "8      Adilabad  01-09-2016  September  2016   491279\n",
       "554    Medchal   01-03-2017      March  2017         \n",
       "1373  Nizamabad  01-06-2019       June  2019      686"
      ]
     },
     "execution_count": 55,
     "metadata": {},
     "output_type": "execute_result"
    }
   ],
   "source": [
    "domastic.sample(3)"
   ]
  },
  {
   "cell_type": "code",
   "execution_count": 56,
   "id": "3b5defba",
   "metadata": {},
   "outputs": [
    {
     "data": {
      "text/html": [
       "<div>\n",
       "<style scoped>\n",
       "    .dataframe tbody tr th:only-of-type {\n",
       "        vertical-align: middle;\n",
       "    }\n",
       "\n",
       "    .dataframe tbody tr th {\n",
       "        vertical-align: top;\n",
       "    }\n",
       "\n",
       "    .dataframe thead th {\n",
       "        text-align: right;\n",
       "    }\n",
       "</style>\n",
       "<table border=\"1\" class=\"dataframe\">\n",
       "  <thead>\n",
       "    <tr style=\"text-align: right;\">\n",
       "      <th></th>\n",
       "      <th>district</th>\n",
       "      <th>date</th>\n",
       "      <th>month</th>\n",
       "      <th>year</th>\n",
       "      <th>visitors</th>\n",
       "    </tr>\n",
       "  </thead>\n",
       "  <tbody>\n",
       "    <tr>\n",
       "      <th>616</th>\n",
       "      <td>Peddapalli</td>\n",
       "      <td>01-05-2017</td>\n",
       "      <td>May</td>\n",
       "      <td>2017</td>\n",
       "      <td>0</td>\n",
       "    </tr>\n",
       "    <tr>\n",
       "      <th>224</th>\n",
       "      <td>Nirmal</td>\n",
       "      <td>01-09-2016</td>\n",
       "      <td>September</td>\n",
       "      <td>2016</td>\n",
       "      <td></td>\n",
       "    </tr>\n",
       "    <tr>\n",
       "      <th>368</th>\n",
       "      <td>Yadadri Bhongir</td>\n",
       "      <td>01-09-2016</td>\n",
       "      <td>September</td>\n",
       "      <td>2016</td>\n",
       "      <td></td>\n",
       "    </tr>\n",
       "  </tbody>\n",
       "</table>\n",
       "</div>"
      ],
      "text/plain": [
       "            district        date      month  year visitors\n",
       "616       Peddapalli  01-05-2017        May  2017        0\n",
       "224           Nirmal  01-09-2016  September  2016         \n",
       "368  Yadadri Bhongir  01-09-2016  September  2016         "
      ]
     },
     "execution_count": 56,
     "metadata": {},
     "output_type": "execute_result"
    }
   ],
   "source": [
    "foreign.sample(3)"
   ]
  },
  {
   "cell_type": "code",
   "execution_count": 57,
   "id": "970f0d71",
   "metadata": {},
   "outputs": [
    {
     "data": {
      "text/plain": [
       "33"
      ]
     },
     "execution_count": 57,
     "metadata": {},
     "output_type": "execute_result"
    }
   ],
   "source": [
    "domastic['district'].nunique()"
   ]
  },
  {
   "cell_type": "code",
   "execution_count": 58,
   "id": "e0d810d9",
   "metadata": {},
   "outputs": [
    {
     "data": {
      "text/plain": [
       "33"
      ]
     },
     "execution_count": 58,
     "metadata": {},
     "output_type": "execute_result"
    }
   ],
   "source": [
    "foreign['district'].nunique()"
   ]
  },
  {
   "cell_type": "code",
   "execution_count": 59,
   "id": "8024b084",
   "metadata": {},
   "outputs": [],
   "source": [
    "# EDA of domastic data\n"
   ]
  },
  {
   "cell_type": "code",
   "execution_count": 60,
   "id": "4edd6250",
   "metadata": {},
   "outputs": [
    {
     "name": "stdout",
     "output_type": "stream",
     "text": [
      "<class 'pandas.core.frame.DataFrame'>\n",
      "RangeIndex: 1512 entries, 0 to 1511\n",
      "Data columns (total 5 columns):\n",
      " #   Column    Non-Null Count  Dtype \n",
      "---  ------    --------------  ----- \n",
      " 0   district  1512 non-null   object\n",
      " 1   date      1512 non-null   object\n",
      " 2   month     1512 non-null   object\n",
      " 3   year      1512 non-null   int64 \n",
      " 4   visitors  1482 non-null   object\n",
      "dtypes: int64(1), object(4)\n",
      "memory usage: 59.2+ KB\n"
     ]
    }
   ],
   "source": [
    "domastic.info()"
   ]
  },
  {
   "cell_type": "code",
   "execution_count": 67,
   "id": "26af4470",
   "metadata": {},
   "outputs": [
    {
     "name": "stdout",
     "output_type": "stream",
     "text": [
      "<class 'pandas.core.frame.DataFrame'>\n",
      "RangeIndex: 1512 entries, 0 to 1511\n",
      "Data columns (total 5 columns):\n",
      " #   Column    Non-Null Count  Dtype \n",
      "---  ------    --------------  ----- \n",
      " 0   district  1512 non-null   object\n",
      " 1   date      1512 non-null   object\n",
      " 2   month     1512 non-null   object\n",
      " 3   year      1512 non-null   int64 \n",
      " 4   visitors  1512 non-null   object\n",
      "dtypes: int64(1), object(4)\n",
      "memory usage: 59.2+ KB\n"
     ]
    }
   ],
   "source": [
    "foreign.info()"
   ]
  },
  {
   "cell_type": "code",
   "execution_count": 94,
   "id": "5fa7d521",
   "metadata": {},
   "outputs": [],
   "source": [
    "# Convert Visitors into Integer\n",
    "domastic['visitors']=pd.to_numeric(domastic['visitors'], errors='coerce').astype('Int64')\n",
    "foreign['visitors']=pd.to_numeric(foreign['visitors'], errors='coerce').astype('Int64')"
   ]
  },
  {
   "cell_type": "code",
   "execution_count": 95,
   "id": "26ae1965",
   "metadata": {},
   "outputs": [],
   "source": [
    "# COnvert date column datatype to date\n",
    "\n",
    "domastic['date']=pd.to_datetime(domastic['date'])\n",
    "foreign['date']=pd.to_datetime(foreign['date'])"
   ]
  },
  {
   "cell_type": "code",
   "execution_count": 96,
   "id": "52f4e754",
   "metadata": {},
   "outputs": [
    {
     "name": "stdout",
     "output_type": "stream",
     "text": [
      "<class 'pandas.core.frame.DataFrame'>\n",
      "RangeIndex: 1512 entries, 0 to 1511\n",
      "Data columns (total 5 columns):\n",
      " #   Column    Non-Null Count  Dtype         \n",
      "---  ------    --------------  -----         \n",
      " 0   district  1512 non-null   object        \n",
      " 1   date      1512 non-null   datetime64[ns]\n",
      " 2   month     1512 non-null   object        \n",
      " 3   year      1512 non-null   int64         \n",
      " 4   visitors  1167 non-null   Int64         \n",
      "dtypes: Int64(1), datetime64[ns](1), int64(1), object(2)\n",
      "memory usage: 60.7+ KB\n"
     ]
    }
   ],
   "source": [
    "domastic.info()"
   ]
  },
  {
   "cell_type": "code",
   "execution_count": 97,
   "id": "a730cc6e",
   "metadata": {},
   "outputs": [
    {
     "name": "stdout",
     "output_type": "stream",
     "text": [
      "<class 'pandas.core.frame.DataFrame'>\n",
      "RangeIndex: 1512 entries, 0 to 1511\n",
      "Data columns (total 5 columns):\n",
      " #   Column    Non-Null Count  Dtype         \n",
      "---  ------    --------------  -----         \n",
      " 0   district  1512 non-null   object        \n",
      " 1   date      1512 non-null   datetime64[ns]\n",
      " 2   month     1512 non-null   object        \n",
      " 3   year      1512 non-null   int64         \n",
      " 4   visitors  1192 non-null   Int64         \n",
      "dtypes: Int64(1), datetime64[ns](1), int64(1), object(2)\n",
      "memory usage: 60.7+ KB\n"
     ]
    }
   ],
   "source": [
    "foreign.info()"
   ]
  },
  {
   "cell_type": "markdown",
   "id": "d021f0f6",
   "metadata": {},
   "source": [
    "# Visitors have null values on both domastic and Foreign data\n",
    "### Data is very less so we will avoid to drop null dataset"
   ]
  },
  {
   "cell_type": "code",
   "execution_count": 104,
   "id": "592942de",
   "metadata": {},
   "outputs": [
    {
     "data": {
      "text/html": [
       "<div>\n",
       "<style scoped>\n",
       "    .dataframe tbody tr th:only-of-type {\n",
       "        vertical-align: middle;\n",
       "    }\n",
       "\n",
       "    .dataframe tbody tr th {\n",
       "        vertical-align: top;\n",
       "    }\n",
       "\n",
       "    .dataframe thead th {\n",
       "        text-align: right;\n",
       "    }\n",
       "</style>\n",
       "<table border=\"1\" class=\"dataframe\">\n",
       "  <thead>\n",
       "    <tr style=\"text-align: right;\">\n",
       "      <th></th>\n",
       "      <th>district</th>\n",
       "      <th>date</th>\n",
       "      <th>month</th>\n",
       "      <th>year</th>\n",
       "      <th>visitors</th>\n",
       "    </tr>\n",
       "  </thead>\n",
       "  <tbody>\n",
       "    <tr>\n",
       "      <th>58</th>\n",
       "      <td>Jangaon</td>\n",
       "      <td>2016-01-11</td>\n",
       "      <td>November</td>\n",
       "      <td>2016</td>\n",
       "      <td>13210</td>\n",
       "    </tr>\n",
       "    <tr>\n",
       "      <th>1169</th>\n",
       "      <td>Jangaon</td>\n",
       "      <td>2019-01-06</td>\n",
       "      <td>June</td>\n",
       "      <td>2019</td>\n",
       "      <td>25820</td>\n",
       "    </tr>\n",
       "  </tbody>\n",
       "</table>\n",
       "</div>"
      ],
      "text/plain": [
       "      district       date     month  year  visitors\n",
       "58    Jangaon  2016-01-11  November  2016     13210\n",
       "1169  Jangaon  2019-01-06      June  2019     25820"
      ]
     },
     "execution_count": 104,
     "metadata": {},
     "output_type": "execute_result"
    }
   ],
   "source": [
    "domastic.sample(2)"
   ]
  },
  {
   "cell_type": "code",
   "execution_count": 121,
   "id": "a0e7dfa3",
   "metadata": {},
   "outputs": [
    {
     "data": {
      "text/html": [
       "<div>\n",
       "<style scoped>\n",
       "    .dataframe tbody tr th:only-of-type {\n",
       "        vertical-align: middle;\n",
       "    }\n",
       "\n",
       "    .dataframe tbody tr th {\n",
       "        vertical-align: top;\n",
       "    }\n",
       "\n",
       "    .dataframe thead th {\n",
       "        text-align: right;\n",
       "    }\n",
       "</style>\n",
       "<table border=\"1\" class=\"dataframe\">\n",
       "  <thead>\n",
       "    <tr style=\"text-align: right;\">\n",
       "      <th></th>\n",
       "      <th>district</th>\n",
       "      <th>month</th>\n",
       "      <th>visitors</th>\n",
       "    </tr>\n",
       "  </thead>\n",
       "  <tbody>\n",
       "    <tr>\n",
       "      <th>0</th>\n",
       "      <td>Adilabad</td>\n",
       "      <td>April</td>\n",
       "      <td>95012.0</td>\n",
       "    </tr>\n",
       "    <tr>\n",
       "      <th>1</th>\n",
       "      <td>Adilabad</td>\n",
       "      <td>August</td>\n",
       "      <td>199068.0</td>\n",
       "    </tr>\n",
       "    <tr>\n",
       "      <th>2</th>\n",
       "      <td>Adilabad</td>\n",
       "      <td>December</td>\n",
       "      <td>51735.0</td>\n",
       "    </tr>\n",
       "    <tr>\n",
       "      <th>3</th>\n",
       "      <td>Adilabad</td>\n",
       "      <td>February</td>\n",
       "      <td>365966.0</td>\n",
       "    </tr>\n",
       "    <tr>\n",
       "      <th>4</th>\n",
       "      <td>Adilabad</td>\n",
       "      <td>January</td>\n",
       "      <td>364090.0</td>\n",
       "    </tr>\n",
       "    <tr>\n",
       "      <th>...</th>\n",
       "      <td>...</td>\n",
       "      <td>...</td>\n",
       "      <td>...</td>\n",
       "    </tr>\n",
       "    <tr>\n",
       "      <th>391</th>\n",
       "      <td>Yadadri Bhongir</td>\n",
       "      <td>March</td>\n",
       "      <td>1281364.0</td>\n",
       "    </tr>\n",
       "    <tr>\n",
       "      <th>392</th>\n",
       "      <td>Yadadri Bhongir</td>\n",
       "      <td>May</td>\n",
       "      <td>528777.0</td>\n",
       "    </tr>\n",
       "    <tr>\n",
       "      <th>393</th>\n",
       "      <td>Yadadri Bhongir</td>\n",
       "      <td>November</td>\n",
       "      <td>517450.0</td>\n",
       "    </tr>\n",
       "    <tr>\n",
       "      <th>394</th>\n",
       "      <td>Yadadri Bhongir</td>\n",
       "      <td>October</td>\n",
       "      <td>559159.0</td>\n",
       "    </tr>\n",
       "    <tr>\n",
       "      <th>395</th>\n",
       "      <td>Yadadri Bhongir</td>\n",
       "      <td>September</td>\n",
       "      <td>621712.0</td>\n",
       "    </tr>\n",
       "  </tbody>\n",
       "</table>\n",
       "<p>396 rows × 3 columns</p>\n",
       "</div>"
      ],
      "text/plain": [
       "            district      month   visitors\n",
       "0           Adilabad      April    95012.0\n",
       "1           Adilabad     August   199068.0\n",
       "2           Adilabad   December    51735.0\n",
       "3           Adilabad   February   365966.0\n",
       "4           Adilabad    January   364090.0\n",
       "..               ...        ...        ...\n",
       "391  Yadadri Bhongir      March  1281364.0\n",
       "392  Yadadri Bhongir        May   528777.0\n",
       "393  Yadadri Bhongir   November   517450.0\n",
       "394  Yadadri Bhongir    October   559159.0\n",
       "395  Yadadri Bhongir  September   621712.0\n",
       "\n",
       "[396 rows x 3 columns]"
      ]
     },
     "execution_count": 121,
     "metadata": {},
     "output_type": "execute_result"
    }
   ],
   "source": [
    "fill_na=domastic.groupby(['district','month'])['visitors'].mean().round().reset_index()\n",
    "fill_na"
   ]
  },
  {
   "cell_type": "code",
   "execution_count": 127,
   "id": "d8eeba9f",
   "metadata": {},
   "outputs": [
    {
     "data": {
      "text/html": [
       "<div>\n",
       "<style scoped>\n",
       "    .dataframe tbody tr th:only-of-type {\n",
       "        vertical-align: middle;\n",
       "    }\n",
       "\n",
       "    .dataframe tbody tr th {\n",
       "        vertical-align: top;\n",
       "    }\n",
       "\n",
       "    .dataframe thead th {\n",
       "        text-align: right;\n",
       "    }\n",
       "</style>\n",
       "<table border=\"1\" class=\"dataframe\">\n",
       "  <thead>\n",
       "    <tr style=\"text-align: right;\">\n",
       "      <th></th>\n",
       "      <th>district</th>\n",
       "      <th>date</th>\n",
       "      <th>month</th>\n",
       "      <th>year</th>\n",
       "      <th>visitors</th>\n",
       "    </tr>\n",
       "  </thead>\n",
       "  <tbody>\n",
       "    <tr>\n",
       "      <th>12</th>\n",
       "      <td>Bhadradri Kothagudem</td>\n",
       "      <td>2016-01-01</td>\n",
       "      <td>January</td>\n",
       "      <td>2016</td>\n",
       "      <td>&lt;NA&gt;</td>\n",
       "    </tr>\n",
       "    <tr>\n",
       "      <th>13</th>\n",
       "      <td>Bhadradri Kothagudem</td>\n",
       "      <td>2016-01-02</td>\n",
       "      <td>February</td>\n",
       "      <td>2016</td>\n",
       "      <td>&lt;NA&gt;</td>\n",
       "    </tr>\n",
       "    <tr>\n",
       "      <th>14</th>\n",
       "      <td>Bhadradri Kothagudem</td>\n",
       "      <td>2016-01-03</td>\n",
       "      <td>March</td>\n",
       "      <td>2016</td>\n",
       "      <td>&lt;NA&gt;</td>\n",
       "    </tr>\n",
       "    <tr>\n",
       "      <th>15</th>\n",
       "      <td>Bhadradri Kothagudem</td>\n",
       "      <td>2016-01-04</td>\n",
       "      <td>April</td>\n",
       "      <td>2016</td>\n",
       "      <td>&lt;NA&gt;</td>\n",
       "    </tr>\n",
       "    <tr>\n",
       "      <th>16</th>\n",
       "      <td>Bhadradri Kothagudem</td>\n",
       "      <td>2016-01-05</td>\n",
       "      <td>May</td>\n",
       "      <td>2016</td>\n",
       "      <td>&lt;NA&gt;</td>\n",
       "    </tr>\n",
       "    <tr>\n",
       "      <th>...</th>\n",
       "      <td>...</td>\n",
       "      <td>...</td>\n",
       "      <td>...</td>\n",
       "      <td>...</td>\n",
       "      <td>...</td>\n",
       "    </tr>\n",
       "    <tr>\n",
       "      <th>1459</th>\n",
       "      <td>Vikarabad</td>\n",
       "      <td>2019-01-08</td>\n",
       "      <td>August</td>\n",
       "      <td>2019</td>\n",
       "      <td>&lt;NA&gt;</td>\n",
       "    </tr>\n",
       "    <tr>\n",
       "      <th>1460</th>\n",
       "      <td>Vikarabad</td>\n",
       "      <td>2019-01-09</td>\n",
       "      <td>September</td>\n",
       "      <td>2019</td>\n",
       "      <td>&lt;NA&gt;</td>\n",
       "    </tr>\n",
       "    <tr>\n",
       "      <th>1461</th>\n",
       "      <td>Vikarabad</td>\n",
       "      <td>2019-01-10</td>\n",
       "      <td>October</td>\n",
       "      <td>2019</td>\n",
       "      <td>&lt;NA&gt;</td>\n",
       "    </tr>\n",
       "    <tr>\n",
       "      <th>1462</th>\n",
       "      <td>Vikarabad</td>\n",
       "      <td>2019-01-11</td>\n",
       "      <td>November</td>\n",
       "      <td>2019</td>\n",
       "      <td>&lt;NA&gt;</td>\n",
       "    </tr>\n",
       "    <tr>\n",
       "      <th>1463</th>\n",
       "      <td>Vikarabad</td>\n",
       "      <td>2019-01-12</td>\n",
       "      <td>December</td>\n",
       "      <td>2019</td>\n",
       "      <td>&lt;NA&gt;</td>\n",
       "    </tr>\n",
       "  </tbody>\n",
       "</table>\n",
       "<p>345 rows × 5 columns</p>\n",
       "</div>"
      ],
      "text/plain": [
       "                   district       date      month  year  visitors\n",
       "12    Bhadradri Kothagudem  2016-01-01    January  2016      <NA>\n",
       "13    Bhadradri Kothagudem  2016-01-02   February  2016      <NA>\n",
       "14    Bhadradri Kothagudem  2016-01-03      March  2016      <NA>\n",
       "15    Bhadradri Kothagudem  2016-01-04      April  2016      <NA>\n",
       "16    Bhadradri Kothagudem  2016-01-05        May  2016      <NA>\n",
       "...                     ...        ...        ...   ...       ...\n",
       "1459              Vikarabad 2019-01-08     August  2019      <NA>\n",
       "1460              Vikarabad 2019-01-09  September  2019      <NA>\n",
       "1461              Vikarabad 2019-01-10    October  2019      <NA>\n",
       "1462              Vikarabad 2019-01-11   November  2019      <NA>\n",
       "1463              Vikarabad 2019-01-12   December  2019      <NA>\n",
       "\n",
       "[345 rows x 5 columns]"
      ]
     },
     "execution_count": 127,
     "metadata": {},
     "output_type": "execute_result"
    }
   ],
   "source": [
    "domastic[domastic['visitors'].isnull()]"
   ]
  },
  {
   "cell_type": "code",
   "execution_count": 124,
   "id": "f5a60f62",
   "metadata": {},
   "outputs": [
    {
     "data": {
      "text/plain": [
       "Index(['district', 'date', 'month', 'year', 'visitors'], dtype='object')"
      ]
     },
     "execution_count": 124,
     "metadata": {},
     "output_type": "execute_result"
    }
   ],
   "source": [
    "domastic.columns"
   ]
  },
  {
   "cell_type": "code",
   "execution_count": null,
   "id": "eef93b04",
   "metadata": {},
   "outputs": [],
   "source": []
  },
  {
   "cell_type": "code",
   "execution_count": null,
   "id": "72b21ff7",
   "metadata": {},
   "outputs": [],
   "source": []
  },
  {
   "cell_type": "code",
   "execution_count": null,
   "id": "ba6d98ec",
   "metadata": {},
   "outputs": [],
   "source": []
  },
  {
   "cell_type": "code",
   "execution_count": null,
   "id": "f765304a",
   "metadata": {},
   "outputs": [],
   "source": []
  },
  {
   "cell_type": "code",
   "execution_count": null,
   "id": "df94c7e6",
   "metadata": {},
   "outputs": [],
   "source": []
  },
  {
   "cell_type": "code",
   "execution_count": null,
   "id": "c1acad40",
   "metadata": {},
   "outputs": [],
   "source": []
  },
  {
   "cell_type": "code",
   "execution_count": null,
   "id": "c12b2395",
   "metadata": {},
   "outputs": [],
   "source": []
  }
 ],
 "metadata": {
  "kernelspec": {
   "display_name": "Python 3 (ipykernel)",
   "language": "python",
   "name": "python3"
  },
  "language_info": {
   "codemirror_mode": {
    "name": "ipython",
    "version": 3
   },
   "file_extension": ".py",
   "mimetype": "text/x-python",
   "name": "python",
   "nbconvert_exporter": "python",
   "pygments_lexer": "ipython3",
   "version": "3.10.9"
  }
 },
 "nbformat": 4,
 "nbformat_minor": 5
}
